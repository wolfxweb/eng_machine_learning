{
 "cells": [
  {
   "cell_type": "markdown",
   "metadata": {},
   "source": [
    " mlflow ui --backend-store-uri sqlite:///mlruns.db"
   ]
  },
  {
   "cell_type": "code",
   "execution_count": 17,
   "metadata": {},
   "outputs": [],
   "source": [
    "#Importações\n",
    "import pandas as pd\n",
    "from sklearn.model_selection import train_test_split\n",
    "import mlflow\n",
    "from pycaret.datasets import get_data\n",
    "from pycaret.classification import *\n",
    "import os\n",
    "from io import StringIO\n"
   ]
  },
  {
   "cell_type": "code",
   "execution_count": 18,
   "metadata": {},
   "outputs": [
    {
     "data": {
      "text/plain": [
       "(24271, 25)"
      ]
     },
     "execution_count": 18,
     "metadata": {},
     "output_type": "execute_result"
    }
   ],
   "source": [
    "# importação data set  https://www.kaggle.com/c/kobe-bryant-shot-selection/data\n",
    "df = pd.read_parquet(\"../data/raw/dataset_kobe_dev.parquet\")\n",
    "df.shape\n",
    "# df_origianal.columns\n",
    "\n",
    "#df_prod = pd.read_parquet(\"../data/raw/dataset_kobe_prod.parquet\")"
   ]
  },
  {
   "cell_type": "code",
   "execution_count": 19,
   "metadata": {},
   "outputs": [],
   "source": [
    "# Para usar o sqlite como repositorio\n",
    "mlflow.set_tracking_uri(\"sqlite:///mlruns.db\")\n",
    "\n",
    "experiment_name = 'Aula Modelos'\n",
    "experiment = mlflow.get_experiment_by_name(experiment_name)\n",
    "if experiment is None:\n",
    "    experiment_id = mlflow.create_experiment(experiment_name)\n",
    "    experiment = mlflow.get_experiment(experiment_id)\n",
    "experiment_id = experiment.experiment_id"
   ]
  },
  {
   "cell_type": "code",
   "execution_count": 20,
   "metadata": {},
   "outputs": [],
   "source": [
    "def adicionaDataFrameArtefato(df, titulo):\n",
    "    #Salvar o DataFrame como arquivo parquet\n",
    "    arquivo_path = f\"{titulo}.parquet\"\n",
    "    df.to_parquet(arquivo_path, index=False)\n",
    "    # Registrando o DataFrame resultante como um artefato no MLflow\n",
    "    mlflow.log_artifact(arquivo_path, f\"{titulo}.parquet\")"
   ]
  },
  {
   "cell_type": "code",
   "execution_count": 21,
   "metadata": {},
   "outputs": [],
   "source": [
    "#variavel com caminho do csv temporario, este foi criado para ser salvo como um aterfato no mlflow\n",
    "csv_path = ''\n",
    "\n",
    "def dadosNulosArtefato(df,titulo):\n",
    "    # Contagem de valores nulos por coluna\n",
    "    valores_nulos_por_coluna = df.isnull().sum()\n",
    "\n",
    "    # Criando um DataFrame para exibir os resultados\n",
    "    tabela_valores_nulos = pd.DataFrame(valores_nulos_por_coluna, columns=['Valores Nulos'])\n",
    "\n",
    "    # Resetando o índice para manter os nomes das colunas\n",
    "    tabela_valores_nulos.reset_index(inplace=True)\n",
    "\n",
    "    # Salvando o DataFrame como um arquivo CSV temporário\n",
    "    csv_path = f\"{titulo}.csv\"\n",
    "    tabela_valores_nulos.to_csv(csv_path, index=False)\n",
    "    \n",
    "    #Adicionado um atefato em formato csv com para listar os campos nullos\n",
    "    mlflow.log_artifact(csv_path, artifact_path= f\"{titulo}.csv\")\n",
    "    \n",
    "    os.remove(csv_path) "
   ]
  },
  {
   "cell_type": "code",
   "execution_count": 22,
   "metadata": {},
   "outputs": [],
   "source": [
    "\n",
    "csv_shape = \"\"\n",
    "\n",
    "def shapeArtefato(df, titulo):\n",
    "    # Obtendo o número de linhas e colunas do DataFrame\n",
    "    num_linhas = df.shape[0]\n",
    "    num_colunas = df.shape[1]\n",
    "    # Criando um DataFrame com as informações\n",
    "    info_shape = pd.DataFrame({'Número de Linhas': [num_linhas], 'Número de Colunas': [num_colunas]})\n",
    "\n",
    "    # Salvando o DataFrame como um arquivo CSV temporário\n",
    "    csv_shape = f\"{titulo}.csv\"\n",
    "    info_shape.to_csv(csv_shape, index=False)\n",
    "    #Adicionado artefato com a quantidade inicial de linha e colunas \n",
    "    mlflow.log_artifact(csv_shape, artifact_path=f\"{titulo}.csv\")\n",
    "    os.remove(csv_shape)"
   ]
  },
  {
   "cell_type": "code",
   "execution_count": 23,
   "metadata": {},
   "outputs": [],
   "source": [
    "#Criando artefato com os nomes da colunas originais e sua tipagem\n",
    "def colunasArtefato(df, titulo):\n",
    "    # Capturando as informações de df.info() em uma string\n",
    "    info_buffer = StringIO()\n",
    "    df.info(buf=info_buffer)\n",
    "    info_text = info_buffer.getvalue()\n",
    "    mlflow.log_text(info_text, artifact_file=f\"{titulo}.txt\")"
   ]
  },
  {
   "cell_type": "code",
   "execution_count": 24,
   "metadata": {},
   "outputs": [],
   "source": [
    "def dataFrameArtefato(df, titulo):\n",
    "    #Colunas que irão permanecer na base de dados\n",
    "    colunas_selecionadas = ['lat', 'lon', 'minutes_remaining', 'period', 'playoffs', 'shot_distance', 'shot_made_flag']\n",
    "    #excutando a remoção de colunas e linha que tenha valores nuloes    \n",
    "    df_processado = df[colunas_selecionadas].dropna()\n",
    "    colunasArtefato(df_processado, f\"Colunas{titulo}\")\n",
    "    shapeArtefato(df_processado, f\"shape{titulo}\")\n",
    "    dadosNulosArtefato(df_processado,f\"valoresNulos{titulo}\") \n",
    "    \n",
    "    # Registrando o DataFrame resultante como um artefato no MLflow\n",
    "    adicionaDataFrameArtefato(df_processado,titulo)\n",
    "    \n",
    " "
   ]
  },
  {
   "cell_type": "code",
   "execution_count": 25,
   "metadata": {},
   "outputs": [],
   "source": [
    "\n",
    "#MLflow\n",
    "with mlflow.start_run(experiment_id=experiment_id, run_name='PreparaçãoDados'):\n",
    "  # dataFrameArtefato(df,\"dataset_kobe_dev\") #Adiciondo o data frame de desenvolvimento com atefato no mlflow\n",
    "  # dataFrameArtefato(df_prod,\"dataset_kobe_prod\") #Adiciondo o data frame de  produção com atefato no mlflow\n",
    "   \n",
    "   dadosNulosArtefato(df, \"ValoresNulos\") #Adicionado um atefato em formato csv com para listar os campos nullos\n",
    "   shapeArtefato(df,\"ShapeInicial\")#Adicionado artefato com a quatidade de linhas e colunas iniciais\n",
    "   colunasArtefato(df,\"colunasIniciais\")#Adicionado artefato com os nomes das colunas e sua respecitva tipagem\n",
    "   dataFrameArtefato(df,\"Processado\") #Processando o data frame removendo algumas colunas e salvando o mesmo no mlflow\n",
    "   \n",
    "\n",
    "\n",
    "\n",
    "\n",
    "\n",
    "\n",
    "# Removendo o arquivo CSV temporário caso exista\n"
   ]
  }
 ],
 "metadata": {
  "kernelspec": {
   "display_name": "venv",
   "language": "python",
   "name": "python3"
  },
  "language_info": {
   "codemirror_mode": {
    "name": "ipython",
    "version": 3
   },
   "file_extension": ".py",
   "mimetype": "text/x-python",
   "name": "python",
   "nbconvert_exporter": "python",
   "pygments_lexer": "ipython3",
   "version": "3.11.3"
  }
 },
 "nbformat": 4,
 "nbformat_minor": 2
}
