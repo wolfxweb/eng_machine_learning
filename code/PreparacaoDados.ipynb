{
 "cells": [
  {
   "cell_type": "code",
   "execution_count": 2,
   "metadata": {},
   "outputs": [],
   "source": [
    "#Importações\n",
    "import pandas as pd\n",
    "from sklearn.model_selection import train_test_split\n",
    "\n"
   ]
  },
  {
   "cell_type": "code",
   "execution_count": 3,
   "metadata": {},
   "outputs": [
    {
     "data": {
      "text/plain": [
       "(30697, 25)"
      ]
     },
     "execution_count": 3,
     "metadata": {},
     "output_type": "execute_result"
    }
   ],
   "source": [
    "#importação data set  https://www.kaggle.com/c/kobe-bryant-shot-selection/data\n",
    "df_origianal = pd.read_csv(\"../Data/kobe_dataset.csv\")\n",
    "df_origianal.shape\n",
    "#df_origianal.columns"
   ]
  },
  {
   "cell_type": "code",
   "execution_count": 4,
   "metadata": {},
   "outputs": [
    {
     "data": {
      "text/plain": [
       "(24271, 25)"
      ]
     },
     "execution_count": 4,
     "metadata": {},
     "output_type": "execute_result"
    }
   ],
   "source": [
    "#Filtrando o short_type = 2PT Field Goal\n",
    "df_filtrado_shot_type = df_origianal[df_origianal['shot_type']== '2PT Field Goal']\n",
    "#df_filtrado['shot_type']\n",
    "df_filtrado_shot_type.shape"
   ]
  },
  {
   "cell_type": "code",
   "execution_count": 5,
   "metadata": {},
   "outputs": [
    {
     "data": {
      "text/plain": [
       "(24271, 7)"
      ]
     },
     "execution_count": 5,
     "metadata": {},
     "output_type": "execute_result"
    }
   ],
   "source": [
    "#Colunas utilizandas: lat, ing, minites ramiining, period, playoffs, shot_distance\n",
    "colunas = ['lat', 'lon', 'minutes_remaining', 'period', 'playoffs', 'shot_distance', 'shot_made_flag']\n",
    "\n",
    "#Criando um novo data frame com as colunas solicitadas\n",
    "df_filtrado_colunas = df_filtrado_shot_type.loc[:, colunas]\n",
    "df_filtrado_colunas.shape"
   ]
  },
  {
   "cell_type": "code",
   "execution_count": 6,
   "metadata": {},
   "outputs": [
    {
     "data": {
      "text/plain": [
       "(20285, 7)"
      ]
     },
     "execution_count": 6,
     "metadata": {},
     "output_type": "execute_result"
    }
   ],
   "source": [
    "\n",
    "#Removendo as linhas com valores faltantes do data frame\n",
    "data_filtered = df_filtrado_colunas.dropna(subset=colunas)\n",
    "data_filtered.shape"
   ]
  },
  {
   "cell_type": "code",
   "execution_count": 7,
   "metadata": {},
   "outputs": [],
   "source": [
    "#Exportando o data frame\n",
    "data_filtered.to_csv('../Data/processed/data_filtered.parquet.csv')"
   ]
  },
  {
   "cell_type": "code",
   "execution_count": 8,
   "metadata": {},
   "outputs": [],
   "source": [
    "# Dividir o DataFrame em conjuntos de treinamento e teste\n",
    "train, test = train_test_split(data_filtered, test_size=0.2, random_state=42)\n"
   ]
  },
  {
   "cell_type": "code",
   "execution_count": 9,
   "metadata": {},
   "outputs": [],
   "source": [
    "# Exportar os DataFrames 'train' e 'test' para arquivos CSV\n",
    "train.to_csv('../Data/operalization/base_train.parquet.csv', index=False)\n",
    "test.to_csv('../Data/operalization/base_test.parquet.csv', index=False)"
   ]
  }
 ],
 "metadata": {
  "kernelspec": {
   "display_name": "venv",
   "language": "python",
   "name": "python3"
  },
  "language_info": {
   "codemirror_mode": {
    "name": "ipython",
    "version": 3
   },
   "file_extension": ".py",
   "mimetype": "text/x-python",
   "name": "python",
   "nbconvert_exporter": "python",
   "pygments_lexer": "ipython3",
   "version": "3.11.3"
  }
 },
 "nbformat": 4,
 "nbformat_minor": 2
}
