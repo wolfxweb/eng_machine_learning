{
 "cells": [
  {
   "cell_type": "code",
   "execution_count": 1,
   "metadata": {},
   "outputs": [],
   "source": [
    "import mlflow\n",
    "from pycaret.datasets import get_data\n",
    "from pycaret.classification import *\n",
    "\n",
    "# Carregar dataset de exemplo (Titanic)\n",
    "data = get_data('titanic')\n",
    "\n",
    "# Inicializar MLflow\n",
    "mlflow.set_tracking_uri(\"sqlite:///mlflow.db\")  # Salvar os logs no banco de dados SQLite\n",
    "mlflow.set_experiment(\"titanic_experiment\")  # Definir o nome do experimento\n",
    "\n",
    "# Iniciar logging do MLflow\n",
    "with mlflow.start_run():\n",
    "\n",
    "    # Configurar o ambiente de classificação com o PyCaret\n",
    "    clf = setup(data, target='Survived')\n",
    "\n",
    "    # Criar modelo (usando AutoML)\n",
    "    best_model = compare_models()\n",
    "\n",
    "    # Avaliar modelo\n",
    "    evaluate_model(best_model)\n",
    "\n",
    "    # Salvar modelo no MLflow\n",
    "    mlflow.sklearn.log_model(best_model, 'model')\n",
    "\n",
    "# Fechar logging do MLflow\n",
    "#mlflow.end_run()\n",
    "\n"
   ]
  },
  {
   "cell_type": "code",
   "execution_count": null,
   "metadata": {},
   "outputs": [],
   "source": [
    "mlflow.end_run()"
   ]
  },
  {
   "cell_type": "code",
   "execution_count": null,
   "metadata": {},
   "outputs": [
    {
     "name": "stdout",
     "output_type": "stream",
     "text": [
      "URI de rastreamento atual: sqlite:///mlflow.db\n"
     ]
    }
   ],
   "source": [
    "tracking_uri = mlflow.get_tracking_uri()\n",
    "print(\"URI de rastreamento atual:\", tracking_uri)"
   ]
  }
 ],
 "metadata": {
  "kernelspec": {
   "display_name": "eml_venv",
   "language": "python",
   "name": "python3"
  },
  "language_info": {
   "codemirror_mode": {
    "name": "ipython",
    "version": 3
   },
   "file_extension": ".py",
   "mimetype": "text/x-python",
   "name": "python",
   "nbconvert_exporter": "python",
   "pygments_lexer": "ipython3",
   "version": "3.11.3"
  }
 },
 "nbformat": 4,
 "nbformat_minor": 2
}
